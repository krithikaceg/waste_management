{
  "nbformat": 4,
  "nbformat_minor": 0,
  "metadata": {
    "colab": {
      "name": "waste_management.ipynb",
      "version": "0.3.2",
      "provenance": [],
      "collapsed_sections": [],
      "toc_visible": true
    },
    "kernelspec": {
      "name": "python3",
      "display_name": "Python 3"
    }
  },
  "cells": [
    {
      "cell_type": "markdown",
      "metadata": {
        "id": "9DQ4CCMb838y",
        "colab_type": "text"
      },
      "source": [
        "# Deep Learning in Waste Management"
      ]
    },
    {
      "cell_type": "markdown",
      "metadata": {
        "id": "85Gm_kaI9rRf",
        "colab_type": "text"
      },
      "source": [
        "![alt text](https://raw.githubusercontent.com/krithikaceg/waste_management/master/Waste-Management-1.png)"
      ]
    },
    {
      "cell_type": "markdown",
      "metadata": {
        "id": "Z7EbwLuAyPF5",
        "colab_type": "text"
      },
      "source": [
        "Waste Management is a huge problem in any country, especially where the population is growing. One of the major problems is the huge amount of waste that goes to landfills. According to CNBC, San Francisco has diverted 80% of its waste from going to landfills with an aim to achieve zero waste. The city has done this with the help of its waste management company, Recology. With the help of the blue bins, it collects the recyclable waste from all around the city.\n",
        "\n",
        "Even though most of the time people throw the waste in the appropriate waste bin, sometimes people tend to throw it in incorrect bin which makes the waste segregation difficult. This Project is aimed towards helping the recycling centers in separating non-recyclable materials using Machine Learning techniques.\n"
      ]
    },
    {
      "cell_type": "markdown",
      "metadata": {
        "id": "GIqq5-QktC45",
        "colab_type": "text"
      },
      "source": [
        "**Importing library**"
      ]
    },
    {
      "cell_type": "code",
      "metadata": {
        "id": "lVn3bpjRuNfN",
        "colab_type": "code",
        "colab": {}
      },
      "source": [
        "import numpy as np # MATRIX OPERATIONS\n",
        "import pandas as pd # EFFICIENT DATA STRUCTURES\n",
        "import matplotlib.pyplot as plt # GRAPHING AND VISUALIZATIONS\n",
        "import math # MATHEMATICAL OPERATIONS\n",
        "import cv2 # IMAGE PROCESSING - OPENCV\n",
        "from glob import glob # FILE OPERATIONS\n",
        "import itertools\n",
        "\n",
        "# KERAS AND SKLEARN MODULES\n",
        "from keras.utils import np_utils\n",
        "from keras.preprocessing.image import ImageDataGenerator\n",
        "from keras.models import Sequential\n",
        "from keras.layers import Dense\n",
        "from keras.layers import Dropout\n",
        "from keras.layers import Flatten\n",
        "from keras.layers.convolutional import Conv2D\n",
        "from keras.layers.convolutional import MaxPooling2D\n",
        "from keras.layers import BatchNormalization\n",
        "from keras.callbacks import ModelCheckpoint,ReduceLROnPlateau,CSVLogger\n",
        "\n",
        "from sklearn import preprocessing\n",
        "from sklearn.model_selection import train_test_split\n",
        "from sklearn.metrics import confusion_matrix\n",
        "\n",
        "\n",
        "# GLOBAL VARIABLES\n",
        "scale = 70\n",
        "seed = 7"
      ],
      "execution_count": 0,
      "outputs": []
    },
    {
      "cell_type": "markdown",
      "metadata": {
        "id": "pkA7p_-htUiw",
        "colab_type": "text"
      },
      "source": [
        "## Data Ingestion"
      ]
    },
    {
      "cell_type": "markdown",
      "metadata": {
        "id": "HLPahkvVajMP",
        "colab_type": "text"
      },
      "source": [
        "All the waste material images are collected and organized under their respective folders. For example, cardboard images are organized under cardboard folder inside dataset-resized. This is how each images is being labelled."
      ]
    },
    {
      "cell_type": "code",
      "metadata": {
        "id": "EokL6KHUvPtR",
        "colab_type": "code",
        "outputId": "814f9856-2204-4e42-f381-8e00e810cecb",
        "colab": {
          "base_uri": "https://localhost:8080/",
          "height": 293
        }
      },
      "source": [
        "!wget https://raw.githubusercontent.com/krithikaceg/waste_management/master/dataset-resized_new.zip\n",
        "zip_images = 'dataset-resized_new.zip'\n",
        "import zipfile\n",
        "zip_ref = zipfile.ZipFile(zip_images, 'r')\n",
        "zip_ref.extractall(\"wm-dataset\")\n",
        "zip_ref.close()\n"
      ],
      "execution_count": 0,
      "outputs": [
        {
          "output_type": "stream",
          "text": [
            "--2019-06-24 02:23:51--  https://raw.githubusercontent.com/krithikaceg/waste_management/master/dataset-resized_new.zip\n",
            "Resolving raw.githubusercontent.com (raw.githubusercontent.com)... 151.101.0.133, 151.101.64.133, 151.101.128.133, ...\n",
            "Connecting to raw.githubusercontent.com (raw.githubusercontent.com)|151.101.0.133|:443... connected.\n",
            "HTTP request sent, awaiting response... 200 OK\n",
            "Length: 41804264 (40M) [application/zip]\n",
            "Saving to: ‘dataset-resized_new.zip.1’\n",
            "\n",
            "dataset-resized_new 100%[===================>]  39.87M   151MB/s    in 0.3s    \n",
            "\n",
            "2019-06-24 02:23:52 (151 MB/s) - ‘dataset-resized_new.zip.1’ saved [41804264/41804264]\n",
            "\n"
          ],
          "name": "stdout"
        }
      ]
    },
    {
      "cell_type": "markdown",
      "metadata": {
        "id": "C3g08Lvpt8JL",
        "colab_type": "text"
      },
      "source": [
        "## EDA"
      ]
    },
    {
      "cell_type": "code",
      "metadata": {
        "id": "PNWKwp62v3NW",
        "colab_type": "code",
        "outputId": "23cd0be3-a580-4484-cd60-dfade3efc881",
        "colab": {
          "base_uri": "https://localhost:8080/",
          "height": 34
        }
      },
      "source": [
        "\n",
        "path_to_images = 'wm-dataset/dataset-resized_new/*/*.jpg'\n",
        "images = glob(path_to_images)\n",
        "trainingset = []\n",
        "traininglabels = []\n",
        "num = len(images)\n",
        "count = 1\n",
        "#READING IMAGES AND RESIZING THEM\n",
        "for i in images:\n",
        "    print(str(count)+'/'+str(num),end='\\r')\n",
        "    trainingset.append(cv2.resize(cv2.imread(i),(scale,scale)))\n",
        "    traininglabels.append(i.split('/')[-2])\n",
        "    count=count+1\n",
        "trainingset = np.asarray(trainingset)\n",
        "print(set(traininglabels))\n",
        "traininglabels = pd.DataFrame(traininglabels)"
      ],
      "execution_count": 0,
      "outputs": [
        {
          "output_type": "stream",
          "text": [
            "{'glass', 'paper', 'cardboard', 'metal', 'plastic'}\n"
          ],
          "name": "stdout"
        }
      ]
    },
    {
      "cell_type": "markdown",
      "metadata": {
        "id": "3GF3ecoM530C",
        "colab_type": "text"
      },
      "source": [
        "### Classifications"
      ]
    },
    {
      "cell_type": "code",
      "metadata": {
        "id": "tPUkT_Od09EK",
        "colab_type": "code",
        "outputId": "42a8a87b-4784-49c3-d7ac-d0eb223eb95a",
        "colab": {
          "base_uri": "https://localhost:8080/",
          "height": 306
        }
      },
      "source": [
        "labels = preprocessing.LabelEncoder()\n",
        "labels.fit(traininglabels[0])\n",
        "print('Classes'+str(labels.classes_))\n",
        "encodedlabels = labels.transform(traininglabels[0])\n",
        "clearalllabels = np_utils.to_categorical(encodedlabels)\n",
        "classes = clearalllabels.shape[1]\n",
        "print(str(classes))\n",
        "traininglabels[0].value_counts().plot(kind='pie')"
      ],
      "execution_count": 0,
      "outputs": [
        {
          "output_type": "stream",
          "text": [
            "Classes['cardboard' 'glass' 'metal' 'paper' 'plastic']\n",
            "5\n"
          ],
          "name": "stdout"
        },
        {
          "output_type": "execute_result",
          "data": {
            "text/plain": [
              "<matplotlib.axes._subplots.AxesSubplot at 0x7f0ed77b18d0>"
            ]
          },
          "metadata": {
            "tags": []
          },
          "execution_count": 13
        },
        {
          "output_type": "display_data",
          "data": {
            "image/png": "[encoded data removed]",
            "text/plain": [
              "<Figure size 432x288 with 1 Axes>"
            ]
          },
          "metadata": {
            "tags": []
          }
        }
      ]
    },
    {
      "cell_type": "markdown",
      "metadata": {
        "id": "8B8DIIge5-_F",
        "colab_type": "text"
      },
      "source": [
        "### Sample Images from training set"
      ]
    },
    {
      "cell_type": "code",
      "metadata": {
        "id": "Lw1QGorit-mn",
        "colab_type": "code",
        "outputId": "d50933c6-3f30-40c1-ae17-a3bd30d09096",
        "colab": {
          "base_uri": "https://localhost:8080/",
          "height": 269
        }
      },
      "source": [
        "for i in range(10):\n",
        "    plt.subplot(5, 2, i+1)\n",
        "    plt.imshow(trainingset[i])"
      ],
      "execution_count": 0,
      "outputs": [
        {
          "output_type": "display_data",
          "data": {
            "image/png": "[encoded data removed]",
            "text/plain": [
              "<Figure size 432x288 with 10 Axes>"
            ]
          },
          "metadata": {
            "tags": []
          }
        }
      ]
    },
    {
      "cell_type": "markdown",
      "metadata": {
        "id": "dzeGDiTm6Ixo",
        "colab_type": "text"
      },
      "source": [
        "### Masking images (for the machine to recognise and learn)"
      ]
    },
    {
      "cell_type": "code",
      "metadata": {
        "id": "15C49kOAxSyq",
        "colab_type": "code",
        "outputId": "b2323f2b-eb15-4b32-c797-a9ab0a86e20d",
        "colab": {
          "base_uri": "https://localhost:8080/",
          "height": 494
        }
      },
      "source": [
        "new_train = []\n",
        "sets = []; getEx = True\n",
        "for i in trainingset:\n",
        "    blurr = cv2.GaussianBlur(i,(5,5),0)\n",
        "    hsv = cv2.cvtColor(blurr,cv2.COLOR_BGR2HSV)\n",
        "    #GREEN PARAMETERS\n",
        "    lower = (25,40,50)\n",
        "    upper = (75,255,255)\n",
        "    mask = cv2.inRange(hsv,lower,upper)\n",
        "    struc = cv2.getStructuringElement(cv2.MORPH_ELLIPSE,(11,11))\n",
        "    mask = cv2.morphologyEx(mask,cv2.MORPH_CLOSE,struc)\n",
        "    boolean = mask>0\n",
        "    new = np.zeros_like(i,np.uint8)\n",
        "    new[boolean] = i[boolean]\n",
        "    new_train.append(new)\n",
        "    \n",
        "    if getEx:\n",
        "        plt.subplot(2,3,1);plt.imshow(i) # ORIGINAL\n",
        "        plt.subplot(2,3,2);plt.imshow(blurr) # BLURRED\n",
        "        plt.subplot(2,3,3);plt.imshow(hsv) # HSV CONVERTED\n",
        "        plt.subplot(2,3,4);plt.imshow(mask) # MASKED\n",
        "        plt.subplot(2,3,5);plt.imshow(boolean) # BOOLEAN MASKED\n",
        "        plt.subplot(2,3,6);plt.imshow(new) # NEW PROCESSED IMAGE\n",
        "        plt.show()\n",
        "        getEx = False\n",
        "new_train = np.asarray(new_train)\n",
        "\n",
        "# CLEANED IMAGES\n",
        "for i in range(8):\n",
        "    plt.subplot(2,4,i+1)\n",
        "    plt.imshow(new_train[i])"
      ],
      "execution_count": 0,
      "outputs": [
        {
          "output_type": "display_data",
          "data": {
            "image/png": "[encoded data removed]",
            "text/plain": [
              "<Figure size 432x288 with 6 Axes>"
            ]
          },
          "metadata": {
            "tags": []
          }
        },
        {
          "output_type": "display_data",
          "data": {
            "image/png": "[encoded data removed]",
            "text/plain": [
              "<Figure size 432x288 with 8 Axes>"
            ]
          },
          "metadata": {
            "tags": []
          }
        }
      ]
    },
    {
      "cell_type": "markdown",
      "metadata": {
        "id": "fZSuiVEF4I8r",
        "colab_type": "text"
      },
      "source": [
        "## Model"
      ]
    },
    {
      "cell_type": "code",
      "metadata": {
        "id": "Q4SZFLWL1Cf8",
        "colab_type": "code",
        "colab": {}
      },
      "source": [
        "new_train = new_train/255\n",
        "x_train,x_test,y_train,y_test = train_test_split(new_train,clearalllabels,test_size=0.1,random_state=seed,stratify=clearalllabels)"
      ],
      "execution_count": 0,
      "outputs": []
    },
    {
      "cell_type": "code",
      "metadata": {
        "id": "xhdx0lz61Ic5",
        "colab_type": "code",
        "colab": {}
      },
      "source": [
        "generator = ImageDataGenerator(rotation_range = 180,zoom_range = 0.1,width_shift_range = 0.1,height_shift_range = 0.1,horizontal_flip = True,vertical_flip = True)\n",
        "generator.fit(x_train)"
      ],
      "execution_count": 0,
      "outputs": []
    },
    {
      "cell_type": "markdown",
      "metadata": {
        "id": "KT7WPBvt6Uq5",
        "colab_type": "text"
      },
      "source": [
        "### Convolutional Neural Network for Image predictions"
      ]
    },
    {
      "cell_type": "code",
      "metadata": {
        "id": "K6BNsu2r1NIr",
        "colab_type": "code",
        "outputId": "d0875bce-2931-46e5-d902-e53954359537",
        "colab": {
          "base_uri": "https://localhost:8080/",
          "height": 1380
        }
      },
      "source": [
        "np.random.seed(seed)\n",
        "\n",
        "model = Sequential()\n",
        "\n",
        "model.add(Conv2D(filters=64, kernel_size=(5, 5), input_shape=(scale, scale, 3), activation='relu'))\n",
        "model.add(BatchNormalization(axis=3))\n",
        "model.add(Conv2D(filters=64, kernel_size=(5, 5), activation='relu'))\n",
        "model.add(MaxPooling2D((2, 2)))\n",
        "model.add(BatchNormalization(axis=3))\n",
        "model.add(Dropout(0.1))\n",
        "\n",
        "model.add(Conv2D(filters=128, kernel_size=(5, 5), activation='relu'))\n",
        "model.add(BatchNormalization(axis=3))\n",
        "model.add(Conv2D(filters=128, kernel_size=(5, 5), activation='relu'))\n",
        "model.add(MaxPooling2D((2, 2)))\n",
        "model.add(BatchNormalization(axis=3))\n",
        "model.add(Dropout(0.1))\n",
        "\n",
        "model.add(Conv2D(filters=256, kernel_size=(5, 5), activation='relu'))\n",
        "model.add(BatchNormalization(axis=3))\n",
        "model.add(Conv2D(filters=256, kernel_size=(5, 5), activation='relu'))\n",
        "model.add(MaxPooling2D((2, 2)))\n",
        "model.add(BatchNormalization(axis=3))\n",
        "model.add(Dropout(0.1))\n",
        "\n",
        "model.add(Flatten())\n",
        "\n",
        "model.add(Dense(256, activation='relu'))\n",
        "model.add(BatchNormalization())\n",
        "model.add(Dropout(0.5))\n",
        "\n",
        "model.add(Dense(256, activation='relu'))\n",
        "model.add(BatchNormalization())\n",
        "model.add(Dropout(0.5))\n",
        "\n",
        "model.add(Dense(classes, activation='softmax'))\n",
        "\n",
        "model.compile(loss='categorical_crossentropy', optimizer='adam', metrics=['accuracy'])\n",
        "\n",
        "model.summary()"
      ],
      "execution_count": 0,
      "outputs": [
        {
          "output_type": "stream",
          "text": [
            "WARNING: Logging before flag parsing goes to stderr.\n",
            "W0624 02:24:50.894318 139702823270272 deprecation_wrapper.py:119] From /usr/local/lib/python3.6/dist-packages/keras/backend/tensorflow_backend.py:74: The name tf.get_default_graph is deprecated. Please use tf.compat.v1.get_default_graph instead.\n",
            "\n",
            "W0624 02:24:50.946183 139702823270272 deprecation_wrapper.py:119] From /usr/local/lib/python3.6/dist-packages/keras/backend/tensorflow_backend.py:517: The name tf.placeholder is deprecated. Please use tf.compat.v1.placeholder instead.\n",
            "\n",
            "W0624 02:24:50.956344 139702823270272 deprecation_wrapper.py:119] From /usr/local/lib/python3.6/dist-packages/keras/backend/tensorflow_backend.py:4138: The name tf.random_uniform is deprecated. Please use tf.random.uniform instead.\n",
            "\n",
            "W0624 02:24:51.019882 139702823270272 deprecation_wrapper.py:119] From /usr/local/lib/python3.6/dist-packages/keras/backend/tensorflow_backend.py:174: The name tf.get_default_session is deprecated. Please use tf.compat.v1.get_default_session instead.\n",
            "\n",
            "W0624 02:24:51.021295 139702823270272 deprecation_wrapper.py:119] From /usr/local/lib/python3.6/dist-packages/keras/backend/tensorflow_backend.py:181: The name tf.ConfigProto is deprecated. Please use tf.compat.v1.ConfigProto instead.\n",
            "\n",
            "W0624 02:24:51.325102 139702823270272 deprecation_wrapper.py:119] From /usr/local/lib/python3.6/dist-packages/keras/backend/tensorflow_backend.py:1834: The name tf.nn.fused_batch_norm is deprecated. Please use tf.compat.v1.nn.fused_batch_norm instead.\n",
            "\n",
            "W0624 02:24:51.421662 139702823270272 deprecation_wrapper.py:119] From /usr/local/lib/python3.6/dist-packages/keras/backend/tensorflow_backend.py:3976: The name tf.nn.max_pool is deprecated. Please use tf.nn.max_pool2d instead.\n",
            "\n",
            "W0624 02:24:51.509641 139702823270272 deprecation.py:506] From /usr/local/lib/python3.6/dist-packages/keras/backend/tensorflow_backend.py:3445: calling dropout (from tensorflow.python.ops.nn_ops) with keep_prob is deprecated and will be removed in a future version.\n",
            "Instructions for updating:\n",
            "Please use `rate` instead of `keep_prob`. Rate should be set to `rate = 1 - keep_prob`.\n",
            "W0624 02:24:52.173311 139702823270272 deprecation_wrapper.py:119] From /usr/local/lib/python3.6/dist-packages/keras/optimizers.py:790: The name tf.train.Optimizer is deprecated. Please use tf.compat.v1.train.Optimizer instead.\n",
            "\n"
          ],
          "name": "stderr"
        },
        {
          "output_type": "stream",
          "text": [
            "_________________________________________________________________\n",
            "Layer (type)                 Output Shape              Param #   \n",
            "=================================================================\n",
            "conv2d_1 (Conv2D)            (None, 66, 66, 64)        4864      \n",
            "_________________________________________________________________\n",
            "batch_normalization_1 (Batch (None, 66, 66, 64)        256       \n",
            "_________________________________________________________________\n",
            "conv2d_2 (Conv2D)            (None, 62, 62, 64)        102464    \n",
            "_________________________________________________________________\n",
            "max_pooling2d_1 (MaxPooling2 (None, 31, 31, 64)        0         \n",
            "_________________________________________________________________\n",
            "batch_normalization_2 (Batch (None, 31, 31, 64)        256       \n",
            "_________________________________________________________________\n",
            "dropout_1 (Dropout)          (None, 31, 31, 64)        0         \n",
            "_________________________________________________________________\n",
            "conv2d_3 (Conv2D)            (None, 27, 27, 128)       204928    \n",
            "_________________________________________________________________\n",
            "batch_normalization_3 (Batch (None, 27, 27, 128)       512       \n",
            "_________________________________________________________________\n",
            "conv2d_4 (Conv2D)            (None, 23, 23, 128)       409728    \n",
            "_________________________________________________________________\n",
            "max_pooling2d_2 (MaxPooling2 (None, 11, 11, 128)       0         \n",
            "_________________________________________________________________\n",
            "batch_normalization_4 (Batch (None, 11, 11, 128)       512       \n",
            "_________________________________________________________________\n",
            "dropout_2 (Dropout)          (None, 11, 11, 128)       0         \n",
            "_________________________________________________________________\n",
            "conv2d_5 (Conv2D)            (None, 7, 7, 256)         819456    \n",
            "_________________________________________________________________\n",
            "batch_normalization_5 (Batch (None, 7, 7, 256)         1024      \n",
            "_________________________________________________________________\n",
            "conv2d_6 (Conv2D)            (None, 3, 3, 256)         1638656   \n",
            "_________________________________________________________________\n",
            "max_pooling2d_3 (MaxPooling2 (None, 1, 1, 256)         0         \n",
            "_________________________________________________________________\n",
            "batch_normalization_6 (Batch (None, 1, 1, 256)         1024      \n",
            "_________________________________________________________________\n",
            "dropout_3 (Dropout)          (None, 1, 1, 256)         0         \n",
            "_________________________________________________________________\n",
            "flatten_1 (Flatten)          (None, 256)               0         \n",
            "_________________________________________________________________\n",
            "dense_1 (Dense)              (None, 256)               65792     \n",
            "_________________________________________________________________\n",
            "batch_normalization_7 (Batch (None, 256)               1024      \n",
            "_________________________________________________________________\n",
            "dropout_4 (Dropout)          (None, 256)               0         \n",
            "_________________________________________________________________\n",
            "dense_2 (Dense)              (None, 256)               65792     \n",
            "_________________________________________________________________\n",
            "batch_normalization_8 (Batch (None, 256)               1024      \n",
            "_________________________________________________________________\n",
            "dropout_5 (Dropout)          (None, 256)               0         \n",
            "_________________________________________________________________\n",
            "dense_3 (Dense)              (None, 5)                 1285      \n",
            "=================================================================\n",
            "Total params: 3,318,597\n",
            "Trainable params: 3,315,781\n",
            "Non-trainable params: 2,816\n",
            "_________________________________________________________________\n"
          ],
          "name": "stdout"
        }
      ]
    },
    {
      "cell_type": "code",
      "metadata": {
        "id": "0hJbLS_-1Qpv",
        "colab_type": "code",
        "outputId": "5dc9fd1d-5f34-4d24-fe48-40a1730d617f",
        "colab": {
          "base_uri": "https://localhost:8080/",
          "height": 85
        }
      },
      "source": [
        "print(model.evaluate(x_train, y_train))  # Evaluate on train set\n",
        "print(model.evaluate(x_test, y_test))  # Evaluate on test set"
      ],
      "execution_count": 0,
      "outputs": [
        {
          "output_type": "stream",
          "text": [
            "2274/2274 [==============================] - 80s 35ms/step\n",
            "[1.6093390908488707, 0.24802110817941952]\n",
            "253/253 [==============================] - 9s 35ms/step\n",
            "[1.6093223396497283, 0.22134387339999081]\n"
          ],
          "name": "stdout"
        }
      ]
    },
    {
      "cell_type": "markdown",
      "metadata": {
        "id": "Wi-lrkMx6jBs",
        "colab_type": "text"
      },
      "source": [
        "### Prediction"
      ]
    },
    {
      "cell_type": "code",
      "metadata": {
        "id": "SbBLEC6Q2ieN",
        "colab_type": "code",
        "outputId": "298ea725-e8fb-4ac3-8b16-b4224ef2d9ca",
        "colab": {
          "base_uri": "https://localhost:8080/",
          "height": 102
        }
      },
      "source": [
        "y_pred = model.predict(x_test)\n",
        "y_class = np.argmax(y_pred, axis = 1) \n",
        "y_check = np.argmax(y_test, axis = 1) \n",
        "\n",
        "cmatrix = confusion_matrix(y_check, y_class)\n",
        "print(cmatrix)"
      ],
      "execution_count": 0,
      "outputs": [
        {
          "output_type": "stream",
          "text": [
            "[[33  5  0  1  1]\n",
            " [19 15  4  1 11]\n",
            " [24 12  2  0  3]\n",
            " [34 21  0  0  5]\n",
            " [40 14  2  0  6]]\n"
          ],
          "name": "stdout"
        }
      ]
    },
    {
      "cell_type": "code",
      "metadata": {
        "id": "YB6PPWGEznq1",
        "colab_type": "code",
        "outputId": "2ad0ba09-da46-4601-be74-e2da8a594d45",
        "colab": {
          "base_uri": "https://localhost:8080/",
          "height": 311
        }
      },
      "source": [
        "for i in range(8):\n",
        "  plt.subplot(2,4,i+1)\n",
        "  plt.imshow(x_test[i])\n",
        "  \n",
        "  "
      ],
      "execution_count": 0,
      "outputs": [
        {
          "output_type": "display_data",
          "data": {
            "image/png": "[encoded data removed]",
            "text/plain": [
              "<Figure size 576x396 with 8 Axes>"
            ]
          },
          "metadata": {
            "tags": []
          }
        }
      ]
    },
    {
      "cell_type": "code",
      "metadata": {
        "id": "Fd-BbcEy3XuF",
        "colab_type": "code",
        "outputId": "b594372d-efbb-42c6-bec5-781144dac09d",
        "colab": {
          "base_uri": "https://localhost:8080/",
          "height": 289
        }
      },
      "source": [
        "for i in range(8):\n",
        "  print(\"Predicted: \" + labels.classes_[y_class[i]])\n",
        "  print(\"Actual class: \"+labels.classes_[y_check[i]])"
      ],
      "execution_count": 0,
      "outputs": [
        {
          "output_type": "stream",
          "text": [
            "Predicted: cardboard\n",
            "Actual class: trash\n",
            "Predicted: glass\n",
            "Actual class: paper\n",
            "Predicted: cardboard\n",
            "Actual class: glass\n",
            "Predicted: cardboard\n",
            "Actual class: plastic\n",
            "Predicted: cardboard\n",
            "Actual class: paper\n",
            "Predicted: metal\n",
            "Actual class: glass\n",
            "Predicted: glass\n",
            "Actual class: glass\n",
            "Predicted: metal\n",
            "Actual class: metal\n"
          ],
          "name": "stdout"
        }
      ]
    },
    {
      "cell_type": "markdown",
      "metadata": {
        "id": "MNwEOoSxAoFu",
        "colab_type": "text"
      },
      "source": [
        "## Keras pre-trained VGG 16 model"
      ]
    },
    {
      "cell_type": "code",
      "metadata": {
        "id": "HQlVnbJhAnbQ",
        "colab_type": "code",
        "colab": {}
      },
      "source": [
        "from keras.preprocessing.image import load_img\n",
        "from keras.preprocessing.image import img_to_array\n",
        "from keras.applications.vgg16 import preprocess_input\n",
        "from keras.applications.vgg16 import decode_predictions\n",
        "from keras.applications.vgg16 import VGG16\n",
        "# load the model\n",
        "model = VGG16()\n"
      ],
      "execution_count": 0,
      "outputs": []
    },
    {
      "cell_type": "code",
      "metadata": {
        "id": "9u46GjbgB3oX",
        "colab_type": "code",
        "colab": {
          "base_uri": "https://localhost:8080/",
          "height": 313
        },
        "outputId": "197cfad6-3ce8-4bfd-92b8-5e59c86dd83e"
      },
      "source": [
        "!wget https://raw.githubusercontent.com/krithikaceg/waste_management/master/plastic_bottle_trash.jpg\n",
        "# load an image from file\n",
        "image = load_img('plastic_bottle_trash.jpg', target_size=(224, 224))\n",
        "# convert the image pixels to a numpy array\n",
        "image = img_to_array(image)\n",
        "# reshape data for the model\n",
        "image = image.reshape((1, image.shape[0], image.shape[1], image.shape[2]))\n",
        "# prepare the image for the VGG model\n",
        "image = preprocess_input(image)\n",
        "# predict the probability across all output classes\n",
        "yhat = model.predict(image)\n",
        "# convert the probabilities to class labels\n",
        "label = decode_predictions(yhat)\n",
        "# retrieve the most likely result, e.g. highest probability\n",
        "label = label[0][0]\n",
        "# print the classification\n",
        "print('%s (%.2f%%)' % (label[1], label[2]*100))"
      ],
      "execution_count": 4,
      "outputs": [
        {
          "output_type": "stream",
          "text": [
            "--2019-06-25 19:08:37--  https://raw.githubusercontent.com/krithikaceg/waste_management/master/plastic_bottle_trash.jpg\n",
            "Resolving raw.githubusercontent.com (raw.githubusercontent.com)... 151.101.0.133, 151.101.64.133, 151.101.128.133, ...\n",
            "Connecting to raw.githubusercontent.com (raw.githubusercontent.com)|151.101.0.133|:443... connected.\n",
            "HTTP request sent, awaiting response... 200 OK\n",
            "Length: 7994 (7.8K) [image/jpeg]\n",
            "Saving to: ‘plastic_bottle_trash.jpg’\n",
            "\n",
            "\rplastic_bottle_tras   0%[                    ]       0  --.-KB/s               \rplastic_bottle_tras 100%[===================>]   7.81K  --.-KB/s    in 0s      \n",
            "\n",
            "2019-06-25 19:08:37 (114 MB/s) - ‘plastic_bottle_trash.jpg’ saved [7994/7994]\n",
            "\n",
            "Downloading data from https://storage.googleapis.com/download.tensorflow.org/data/imagenet_class_index.json\n",
            "40960/35363 [==================================] - 0s 0us/step\n",
            "pop_bottle (18.17%)\n"
          ],
          "name": "stdout"
        }
      ]
    },
    {
      "cell_type": "markdown",
      "metadata": {
        "id": "_gJuPWa_aCty",
        "colab_type": "text"
      },
      "source": [
        "## Prediction using Google AutoML Vision"
      ]
    },
    {
      "cell_type": "markdown",
      "metadata": {
        "id": "sTTrWHnQZ48j",
        "colab_type": "text"
      },
      "source": [
        "![alt text](https://raw.githubusercontent.com/krithikaceg/waste_management/master/google_automl_vision_prediction.png)"
      ]
    },
    {
      "cell_type": "markdown",
      "metadata": {
        "id": "pC6Si8iJ4Pl9",
        "colab_type": "text"
      },
      "source": [
        "## Conclusion\n",
        "Even though it has classified, the result is not satisfactory. \n",
        "\n",
        "**Challenges:**\n",
        "\n",
        "Different to classify certain items such as metal cup, paper cup, plastic cup which involves human intellect.\n",
        "\n",
        "\n",
        "**Couple of suggestions:**\n",
        "\n",
        "1. We are not sure if the training data is sufficient or trains the model well. May be 2500 images is not enough or doesn't provide variety for our model to distinguish.\n",
        "- Train with more number of number of variety of images.\n",
        "\n",
        "2. Test the images with Amazon ML or Google Vision.\n",
        "\n",
        "3. We are adding only three layers here. We can add more layers for better training and classification.\n",
        "\n",
        "4. May be Neural networks is not good at classifying these images. Try different technologies.\n",
        "\n",
        "\n",
        "**Next Steps:**\n",
        "1. Collect more images and train our model. \n",
        "\n",
        "2. Use the established/proven tools to classify our images to check if the input data is sufficient.\n",
        "\n",
        "3. Leverage deep learning technologies better.\n",
        "\n",
        "4. Try different technologies until we achieve a better score.\n"
      ]
    }
  ]
}